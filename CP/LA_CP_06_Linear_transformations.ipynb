{
 "cells": [
  {
   "cell_type": "markdown",
   "id": "37c98f43-7de0-4705-9027-086ec1ce2609",
   "metadata": {},
   "source": [
    "# ЛА-Комп'ютерний практикум-06. Лінійні перетворення"
   ]
  },
  {
   "cell_type": "code",
   "execution_count": 1,
   "id": "78a0c669-3e61-42ca-90f6-59cfc254786e",
   "metadata": {},
   "outputs": [],
   "source": [
    "# these imports may be useful\n",
    "\n",
    "import pandas as pd\n",
    "from scipy import linalg\n",
    "import numpy as np\n",
    "import matplotlib.pyplot as plt\n",
    "from sympy import *  #module to do symbolic calculations\n",
    "import matplotlib.animation\n",
    "import networkx as nx"
   ]
  },
  {
   "cell_type": "markdown",
   "id": "b90895ce-5ab9-4197-85cc-0dc2f586d721",
   "metadata": {},
   "source": [
    " #### Деякі інструменти, що стануть у нагоді "
   ]
  },
  {
   "cell_type": "code",
   "execution_count": 2,
   "id": "96f03867-c0bc-43c0-a7bd-4a357860aef5",
   "metadata": {},
   "outputs": [
    {
     "data": {
      "text/plain": [
       "[<matplotlib.patches.Polygon at 0x1f92fb5ef90>]"
      ]
     },
     "execution_count": 2,
     "metadata": {},
     "output_type": "execute_result"
    },
    {
     "data": {
      "image/png": "[encoded data removed]",
      "text/plain": [
       "<Figure size 400x200 with 1 Axes>"
      ]
     },
     "metadata": {},
     "output_type": "display_data"
    }
   ],
   "source": [
    "# these tools may be useful\n",
    "\n",
    "# how to fill triangles (or other polygons) with the color \n",
    "x1 = np.array([0, 0, 1]) #(x, y) -- coordinates of vertices of the triangle\n",
    "y1 = np.array([0, 1, 0])\n",
    "\n",
    "x2 = np.array([1, 1, 2])\n",
    "y2 = np.array([0, 1, 0])\n",
    "\n",
    "fig = plt.figure(figsize=(4, 2))\n",
    "ax = fig.gca()\n",
    "ax.fill(x1, y1, 'b')\n",
    "ax.fill(x2, y2, 'b')\n"
   ]
  },
  {
   "cell_type": "code",
   "execution_count": 3,
   "id": "0e9ad50b-bdf2-42f2-b403-37305c84e8ad",
   "metadata": {},
   "outputs": [
    {
     "name": "stdout",
     "output_type": "stream",
     "text": [
      "eigenvalues [ 3. -1.]\n",
      "eigenvectors [[ 0.70710678 -0.70710678]\n",
      " [ 0.70710678  0.70710678]]\n"
     ]
    }
   ],
   "source": [
    "# compute the eigenvalues and eigenvectors of a matrix\n",
    "A = np.array([[1, 2], [2, 1]])\n",
    "\n",
    "eigenvalues, eigenvectors = np.linalg.eig(A)\n",
    "print(f'eigenvalues {eigenvalues}')\n",
    "print(f'eigenvectors {eigenvectors}') # the columns are eigenvectors !"
   ]
  },
  {
   "cell_type": "code",
   "execution_count": 4,
   "id": "d5dbbf5c-40ca-4dd9-8239-6818f8416c91",
   "metadata": {},
   "outputs": [
    {
     "data": {
      "text/latex": [
       "$\\displaystyle \\operatorname{PurePoly}{\\left( \\lambda^{3} - 6 \\lambda^{2} + 11 \\lambda - 6, \\lambda, domain=\\mathbb{Z} \\right)}$"
      ],
      "text/plain": [
       "PurePoly(lamda**3 - 6*lamda**2 + 11*lamda - 6, lamda, domain='ZZ')"
      ]
     },
     "execution_count": 4,
     "metadata": {},
     "output_type": "execute_result"
    }
   ],
   "source": [
    "# compute characteristic polynomial symbolically with sympy\n",
    "M = Matrix([[1,0,0], [0,2,0], [0,0,3]])\n",
    "lamda = symbols('lamda') #змінна, від якої буде многочлен\n",
    "p = M.charpoly(lamda)\n",
    "p"
   ]
  },
  {
   "cell_type": "markdown",
   "id": "9fdd79dd-2132-4e66-9f29-2577a2d43534",
   "metadata": {},
   "source": [
    "## Вправи"
   ]
  },
  {
   "cell_type": "markdown",
   "id": "380c0d0f-c83c-4bc3-bbfa-d25db6150481",
   "metadata": {},
   "source": [
    "💻  **6.1. Із $a$ в $b$.** Нехай $\\varphi$ -- лінійне перетворення в $\\mathbb{R}^n$, яке має переводити вектори $a_1, a_2, \\dots, a_n$ відповідно у вектори $b_1, b_2, \\dots, b_n,$ тобто $\\varphi(a_j)=b_j$ для $j=1, \\dots, n$. Чи завжди таке перетворення існує? Напишіть функцію, яка за заданими координатами векторів $a_j$, $b_j$ в стандартному базисі знаходить матрицю $\\varphi$ (також у стандартному базисі), або ж повідомляє, що шуканого перетворення не існує."
   ]
  },
  {
   "cell_type": "code",
   "execution_count": null,
   "id": "2a6c1b73-1310-41b4-8667-86c63c60bd06",
   "metadata": {},
   "outputs": [],
   "source": [
    "#write your code here"
   ]
  },
  {
   "cell_type": "markdown",
   "id": "9fb9cfda-a26d-4f3d-855a-46bd69392ac1",
   "metadata": {},
   "source": [
    "💻  **6.2. Художник.** Намалюйте на площині квадрат із центром у точці $(0,0)$.\r\n",
    "Розбийте його на 4 частини (по чотирьох чвертях) та заповніть їх точками чотирьох кольорів.\r\n",
    "\r\n",
    "1. Поекспериментуйте з тим, на що перетвориться квадрат, якщо застосовувати до його точок різні лінійні перетворення: розтягування/стиснення (у тому числі з різними коефіцієнтами за осями), обертання, віддзеркалення відносно деякої осі. Якими матрицями задаються ці перетворення?\r\n",
    "\r\n",
    "2. На що перетвориться квадрат, якщо лінійне перетворензаа) а) дано скалярною риб) б) цею, матрицегг в) в) у 1, верхньотрикутною матрицею?\r\n",
    "\r\n",
    "3. Зробіть висновок: як може змінитися форма квадрата під впливом лінійних перетворень. "
   ]
  },
  {
   "cell_type": "code",
   "execution_count": null,
   "id": "276dfa33-ad6d-4c60-9f32-adad434a6f9c",
   "metadata": {},
   "outputs": [],
   "source": [
    "#write your code here"
   ]
  },
  {
   "cell_type": "markdown",
   "id": "3d7f922a-1bab-4c05-9b07-d99c7f548aec",
   "metadata": {},
   "source": [
    "💻  **6.3. Просунутий художник.** Створіть нескладне анімоване зображення, в якому відбуватиметься обертання деякого об'єкта (стрілки годинника, сонця або зірок на небосхилі, фігурки на каруселі тощо). Використовуйте матрицю обертання для перетворення координат точок. Для анімації можна використовувати модуль matplotlib.animation.\n"
   ]
  },
  {
   "cell_type": "code",
   "execution_count": null,
   "id": "95d85f9e-488b-4804-918b-01ba3b34e83e",
   "metadata": {},
   "outputs": [],
   "source": [
    "#write your code here"
   ]
  },
  {
   "cell_type": "markdown",
   "id": "96cbaf11-b3ca-4e1e-b5c4-17b62da3f355",
   "metadata": {},
   "source": [
    "💻  **6.4. Фрактали.** У цій вправі ми використаємо лінійні перетворення для створення самоподібної структури -- фракталу -- а саме деякої версії трикутника Серпінського, названого так на честь польського математика [Вацлава Серпінського](https://en.wikipedia.org/wiki/Wac%C5%82aw_Sierpi%C5%84ski).\n",
    "\n",
    "1️⃣ Намалюйте на площині трикутник з вершинами в точках $A(0,0)$, $B(1,0)$, $C(0,1)$. Також створіть $2\\times 3 $ numpy-масив $ST$ (Sierpinski Triangle), стовпчики якого, міститимуть координати точок. Варто заповнити внутрішність трикутника кольором -- так вийде наочніше. Те, що ви намалювали -- це нульова (початковва) ітерація трикутника Серпінського."
   ]
  },
  {
   "cell_type": "code",
   "execution_count": 5,
   "id": "135e430e-4782-49ab-917c-0a322b381b92",
   "metadata": {},
   "outputs": [],
   "source": [
    "#write your code here\n",
    "ST = np.array([[0,0], [1,0], [0,1]]).T  # .T for columns to be points "
   ]
  },
  {
   "cell_type": "markdown",
   "id": "8ba265b1-27ec-4468-8d9c-99c798dbf8f8",
   "metadata": {},
   "source": [
    "2️⃣ Створення фракталу відбувається за декілька кроків, на кожному з яких до кожного стовпчика масиву $ST$, тобто до кожної вершини $x$ трикутників, що утворюють фрактал, треба застосувати три перетворення: \n",
    "\n",
    "$F_a(x) = Ax$, де $A=\\left(\\begin{array}{cc} 0 & 0.5\\\\ 0.5 & 0 \\end{array}\\right)$.\n",
    "\n",
    "$F_b(x) = Ax + b$ з тією самою $A$ і $b=\\left(\\begin{array}{c} 0.5 \\\\ 0  \\end{array}\\right)$. \n",
    "\n",
    "$F_c(x)= Ax + c$ з тією самою $A$ і $c=\\left(\\begin{array}{c} 0 \\\\ 0.5  \\end{array}\\right)$. \n",
    "\n",
    "Поясніть з точки зору геометрії, що робить кожне з цих перетворень. "
   ]
  },
  {
   "cell_type": "markdown",
   "id": "6a04c1ce-d77e-4785-ab9e-f7e2714bee5d",
   "metadata": {},
   "source": [
    "✔️ *Ваші міркування запишіть тут.*"
   ]
  },
  {
   "cell_type": "markdown",
   "id": "3f2b063e-3d66-4844-aee5-5ce7c7f8d201",
   "metadata": {},
   "source": [
    "Зверніть увагу, що застосувати перетворення $F_a$ до всіх вершин трикутника Серпінського одночасно можна, помноживши матрицю $A$ на матрицю $ST$. А для того, щоб застосувати перетворення $F_b$ достатньо помножити $A$ на $ST$ та додати вектор $b$ (він додасться до кожного стовпчика). Аналогічно для $F_c$.\n",
    "\n",
    "Застосуйте всі перетворення. Від кожного перетворення ви отримаєте по три точки, отже, загалом вийде 3 трикутники на першій ітерації трикутника Серпінського. Подумайте, як заповнити їх кольором. Має вийти щось схоже на наступний малюнок\n",
    "\n",
    "<img src='images\\Sierpinski_triangle_ortho_1.png' width=240, heigth=240>\n",
    "\n",
    "Також змініть масив $ST$ -- тепер він має містити 9 точок, деякі з яких співпадають."
   ]
  },
  {
   "cell_type": "code",
   "execution_count": null,
   "id": "28432c0e-0d6b-412c-9926-63156cef85ac",
   "metadata": {
    "scrolled": true
   },
   "outputs": [],
   "source": [
    "#write your code here"
   ]
  },
  {
   "cell_type": "markdown",
   "id": "03f36b10-0a86-4d14-b914-c4319943fa78",
   "metadata": {},
   "source": [
    "3️⃣ Продовжіть і зробіть ще кілька ітерацій трикутника Серпінського, щокроку, перетвороюючи кожен із старих трикутників на три нових, вдвічі менших. Подумайте, як заповнювати трикутники кольором. Наприклад, на другій ітерації має вийти щось схоже на наступний малюнок, а новий масив міститиме 27 точок. \n",
    "\n",
    "<img src='images\\Sierpinski_triangle_ortho.png' width=240, heigth=240>\n"
   ]
  },
  {
   "cell_type": "code",
   "execution_count": null,
   "id": "9e61727a-c229-4fa4-a63b-c04b6f84ec22",
   "metadata": {},
   "outputs": [],
   "source": [
    "#write your code here"
   ]
  },
  {
   "cell_type": "markdown",
   "id": "a08787f0-ed19-460c-a863-370a518a4b9d",
   "metadata": {},
   "source": [
    "4️ Створіть функцію, що обчислює точки трикутника Серпінського на заданій ітерації, а також функцію, що малює цей трикутник."
   ]
  },
  {
   "cell_type": "code",
   "execution_count": null,
   "id": "c82f3777-a5cd-4f16-9d7a-eeb39ca2eebd",
   "metadata": {},
   "outputs": [],
   "source": [
    "#write your code here"
   ]
  },
  {
   "cell_type": "markdown",
   "id": "5fc800f0-bd91-40ea-a29b-8e0713d01c9c",
   "metadata": {},
   "source": [
    "💻  **6.5. Характеристичний многочлен.** Характеристичний многочлен квадратної матриці $A$ задається як $\\chi(\\lambda) = \n",
    "\\det(A-\\lambda I)$. Його корені є власними значеннями матриці  $A$. Поекспериментуйте зі знаходженням  $\\chi(\\lambda)$ для деяких матриць  $A$.\n",
    "\n",
    "1.  Знайдіть характеристичний многочлен матриці за допомогою символьних обчислень (charpoly в пакеті sympy). Навчіться отримувати коефіцієнти цього многочлена.\n",
    "2.  Знайдіть власні значення за допомогою чисельних методів (numpy.linalg.eig). Будьте уважні: вони можуть виявитися комплексними.\n",
    "3.  Побудуйте за знайденими власними значеннями многочлен, коренями якого вони є. За допомогою символьних обчислень (модуль  poly з пакету sympy), або знайдіть коєфіцієнти за допомогою формул Вієта.\n",
    "4. Протестуйте для різних матриць і порівняйте результати з пунктів 1 і 3.\n",
    "5. Перевірте, чи виконується для знайдених вами многочленів і вихідної матриці теорема Гамільтона-Келі: $\\chi(A)=0$ (тобто якщо підставити матрицю до її характеристичного многочлена та обчислити значення, то отримаємо нульову матрицю).\n",
    "    "
   ]
  },
  {
   "cell_type": "code",
   "execution_count": null,
   "id": "8138c2a0-40db-420e-9bc0-4f95cba78986",
   "metadata": {},
   "outputs": [],
   "source": [
    "#write your code here"
   ]
  },
  {
   "cell_type": "markdown",
   "id": "2951cc3c-78c6-4b0d-a64a-a901fd4e69ad",
   "metadata": {},
   "source": [
    "## Задачі"
   ]
  },
  {
   "cell_type": "code",
   "execution_count": null,
   "id": "94e86ff0-ee4b-416a-9ad6-6bb2a8a4fc7d",
   "metadata": {},
   "outputs": [],
   "source": [
    "# import section"
   ]
  },
  {
   "cell_type": "markdown",
   "id": "117a0d62-da4e-409f-a64b-837d343d4046",
   "metadata": {},
   "source": [
    "🧩 **6.6. Степеневий метод.** У цій задачі ми розглянемо один з чисельних методів знаходження максимального власного значення й відповідного власного вектора. На відміну від теоретичного метода, що передбачає факторизацію характеристичного многочлена (а отже, потенційно є дуже ресурсоємним), цей метод здійснює нескладні чисельні операції. Зазвичай його використовують для великих розріджених матриць. Наприклад, Google використовує його для ранжування сторінок в інтернеті (див. наступну задачу).\n",
    "\n",
    "Ідею розглянемо на прикладі матриці $A$ порядку 2. Припустимо, що матриця має два дійсних різних власних значення: $\\lambda_1$, $\\lambda_2$, причому $|\\lambda_1|>|\\lambda_2|$, і відповідні власні вектори $v_1, v_2$. Тоді для довільного вектора $x$ ми можемо записати $x=x_1v_1+x_2v_2$, застосувати матрицю $A$ до обох частин й отримати $Ax=x_1\\lambda_1v_1+x_2\\lambda_2v_2.$ \n",
    "\n",
    "Будемо продовжувати множити на матрицю $A$ обидві частини рівності. На $k$-ому кроці отримаємо $A^kx= x_1\\lambda_1^kv_1+x_2\\lambda_2^kv_2$.\n",
    "\n",
    "А поділивши обидві частини на $\\lambda_1^k$, отримаємо $$\\dfrac{A^kx}{\\lambda_1^k}= x_1v_1+x_2\\left(\\dfrac{\\lambda_2}{\\lambda_1}\\right)^kv_2 $$\n",
    "\n",
    "\n",
    "1️⃣  \n",
    "1. Поясніть, чому можна подати кожен вектор $x$ у вигляді $x=x_1v_1+x_2v_2$.\n",
    "2. Поясніть за допомогою мат.індукції рівність для $A^kx$.\n",
    "3. Зробіть висновок, до чого прямує права частина рівності для $\\dfrac{A^kx}{\\lambda_1^k}$ зі зростанням $k$ і чому.\n",
    "4. Якщо матриця буде більшого порядку (тобто матиме більшу кількусть власних значень), чи зможемо ми зробити такий самий висновок? За яких умов?\n",
    " "
   ]
  },
  {
   "cell_type": "markdown",
   "id": "4b64c7c9-a972-400a-b48a-232657e8f95f",
   "metadata": {},
   "source": [
    "✔️ *Ваші міркування запишіть тут.*"
   ]
  },
  {
   "cell_type": "markdown",
   "id": "b741e9b5-08f1-4391-910a-06a8c998ba1c",
   "metadata": {},
   "source": [
    "Отже, зі зростанням $k$  вектор $A^kx$ стає все ближчим до власного вектора, пропорційного $v_1$. Це означає, що ми можемо зробити певну кількість ітерацій множення матриці $A$ на довільний (випадковий) вектор $x$ й отримати наближення власного вектора, що відповідає максимальному власному значенню. Щоправда на кожному кроці модуль наближеного власного вектора може збільшуватися (якщо $\\lambda_1>1$) або зменшуватися (якщо $\\lambda_1<1$), призводячи до незручних значень координат власного вектора (занадто великих, або занадто малих). Для того, щоб позбутися таких ефектів, ітераційний процес виконують з одночасним нормуванням: $$x_{k+1}=\\dfrac{Ax_k}{\\|Ax_k\\|}.$$\n",
    "\n",
    "Також з того, що $A^{k}x\\approx \\lambda_1^{k}x_1v_1$, а $A^{k+1}x\\approx \\lambda_1^{k+1}x_1v_1$, випливає, що $\\lambda_1$  приблизно дорівнює коефіцієнту пропорційності між сусідніми ітераціями: $x_{k+1} \\approx \\lambda_1x_k $, або ж $\\lambda_1 \\approx \\dfrac{(x_k^t)Ax_k}{(x_k^t)x_k}$.  \n",
    "\n",
    "2️⃣ Напишіть функцію, яка для дійсної квадратної матриці $A$ за допомогою степеневого методу шукає (нормований) власний вектор, що відповідає найбільшому за модулем власному значенню, а також це власне значення (будьте уважні -- власне значення може виявитися комплексним). Передбачте зупинку ітераційного процесу або по виконанні певної кількості операцій, або якщо різниця модулів векторів, знайдених на сусідніх ітераціях, стає меншою деякого порогового значення. Як початкове наближення, зазвичай, обирають вектор $x$, усі координати якого є однаковими.\n",
    "Протестуйте функцію. Чи можете ви вказати випадки, коли степеневий метод не буде працювати?"
   ]
  },
  {
   "cell_type": "code",
   "execution_count": null,
   "id": "23bbaf4e-2d6a-4b3d-875b-ffedab43d364",
   "metadata": {},
   "outputs": [],
   "source": [
    "#write your code here"
   ]
  },
  {
   "cell_type": "markdown",
   "id": "9108bf10-0ab9-401a-9adf-e7fc086f7f2e",
   "metadata": {},
   "source": [
    "3️⃣ Як можна адаптувати цей метод для пошуку найменшого (за модулем) власного значення й відповідного власного вектора?"
   ]
  },
  {
   "cell_type": "markdown",
   "id": "d3e8ba9d-71c9-4dc8-97db-7c4161d097cb",
   "metadata": {},
   "source": [
    " ✔️ *Ваші міркування запишіть тут.*"
   ]
  },
  {
   "cell_type": "markdown",
   "id": "cefc9962-33d1-4af7-b84f-4aa7697b2655",
   "metadata": {},
   "source": [
    "4️ Якщо для випадкового вектора $x$, що ви обираєте його на початковому кроці, виявиться що він не містить компоненту, що відповідає власному вектору $v_1$ (тобто $x_1=0$), то яким буде результат ітераційного процесу степеневого методу? "
   ]
  },
  {
   "cell_type": "markdown",
   "id": "3c3f87a2-2c8c-448a-a725-fa9fd25feae0",
   "metadata": {},
   "source": [
    "✔️ *Ваші міркування запишіть тут.*"
   ]
  },
  {
   "cell_type": "markdown",
   "id": "c3cfcebf-64bd-4e19-a0a2-b747e5597708",
   "metadata": {},
   "source": [
    "🧩 **6.7. PageRank.** У цій задачі ми будемо розбиратися з тим, як Google ранжує web-сторінки, що відповідають певному запиту. За запитом пошукова система видає користувачу сторінки в певному порядку так, що сторінки на початку списку є найбільш релевантими, корисними й надійними джерелами інформації. Це відбувається завдяки тому, що система вміє присвоювати сторінкам певні ранги -- числа, що вказують на важливість, авторитетність сторінок -- за якими сторінки можна порівнювати між собою й сортувати за спаданням рангу. Алгоритм ранжування сторінок для Google вигадали 1996 року Larry Page та Sergey Brin, на той час аспіранти Стенфордського університету (див. їх [статтю](http://infolab.stanford.edu/~backrub/google.html) 1998 року).\n",
    "\n",
    "Алгоритм спирається на уявлення про інтернет як про систему сторінок, що пов'язані між собою посиланнями, тобто моделлю інтернета є орієнтований граф. При цьому сторінки, на які посилається багато інших сторінок вважаються \"важливими\", а сторінки, на які майже немає посилань, такими, що не мають значущості. Уявляти собі ранг (\"важливість\") сторінки можна кількома еквівалентними способами. Нехай $v_1, v_2, \\dots , v_N$ -- вершини моделі (вони відповідають сторінкам мережі), а $r_1, r_2, \\dots , r_N$ -- їх ранги.\n",
    "\n",
    "1. Якщо зі сторінки $A$ з рангом $r$ є посилання на $n$ інших сторінок, то $A$ рівномірно \"делегує\" свою важливість цим  $n$ сторінкам, кожній з яких дістається по $\\frac{1}{n}r$ рангу.\n",
    "\n",
    "2. Можна також уявити собі користувача-блукача, який випадковим чином переходить зі сторінки на сторінку, кожного разу обираючи (з однаковою ймовірністю) одне з посилань, що є на поточній сторінці. Тоді якщо на ресурсі є посилання на $n$ інших сторінок, то на кожну з них блукач потрапить зі ймовірністю $\\frac{1}{n}$. Ранг сторінки визначається тим, яку долю часу проведе блукач на кожній сторінці (або ж частотою відвідування сторінки у припущенні, що блукання відбувається достатньо довго).\n",
    "\n",
    "Обидва підходи призводить до того, що ранг $r_i$ кожної сторінки $v_i$ можна виразити через ранги її сусідів, а саме\n",
    "$$r_i = \\displaystyle\\sum_{j: \\ v_j\\rightarrow v_i} \\frac{r_j}{outdeg(v_j)},$$\n",
    "де сума розглядається за тими $v_j$, що з них є посилання на $v_i$, а $outdeg(v_j)$ є вихідним степенем вершини $v_j$, тобто загальною кількістю ребер, що виходять з цієї вершини.\n"
   ]
  },
  {
   "cell_type": "markdown",
   "id": "059ab73b-8716-413f-8e78-817d4d45fc9d",
   "metadata": {},
   "source": [
    "<img src='images\\PageRankSample.png' width=600, heigth=400>"
   ]
  },
  {
   "cell_type": "markdown",
   "id": "a39399f0-3c28-4377-aeb3-a72a6cee380a",
   "metadata": {},
   "source": [
    "Наприклад, для графа, що його зображено вище ліворуч, орієнтовані ребра вказують на посилання сторінок (стрілка вказує на ту сторінку, на яку є посилання). На малюнку праворуч показано, яку частину свого рангу \"делегують\" сторінки тим  вершинам, на які вони посилаються. Наприклад, $r_1=r_3+\\frac{1}{2}r_4$, оскільки $v_3$ посилається лише на $v_1$, а $v_4$ має два вихідні ребра.\n",
    "Усі рівності для рангів разом можна записати у матричному вигляді. Якщо $r$ - вектор рангів, а \n",
    "$T=\\displaystyle \\begin{pmatrix}\n",
    "0 & 0 & 1 & \\frac{1}{2}\\\\\n",
    "\\frac{1}{3} & 0 & 0 & 0\\\\\n",
    "\\frac{1}{3} & \\frac{1}{2} & 0 & \\frac{1}{2}\\\\\n",
    "\\frac{1}{3} & \\frac{1}{2} & 0 & 0\n",
    "\\end{pmatrix}$ - матриця переходів (або ж \"делегування важливостей\"), то має бути виконаною рівність $$r=Tr,$$\n",
    "тобто шуканий вектор рангів $r$ - це власний вектор матриці $T$, який відповідає власному значенню 1. \n",
    "\n",
    "Чому в матриці $T$ існує власний вектор із власним значенням 1? Та ще й було б добре, щоб ранги мали невід'ємні значення. Справа в спеціальному вигляді матриці  $T$. За побудовою сума елементів кожного стовпця $T$ дорівнює 1 (такі матриці називаються стохастичними, або точніше стовпцево-стохастичними). [Теорема Фробеніуса-Перрона](https://en.wikipedia.org/wiki/Perron%E2%80%93Frobenius_theorem) (яку ми не будемо обговорювати, але інформацію про яку нескладно знайти) для достатньо широкого класу таких матриць гарантує, що 1 є їх найбільшим за модулем власним значенням і що власний вектор можна обрати з невід'ємними компонентами. Зокрема, це означає, що шукати власний вектор рангів, що відповідає власному значенню 1 можна за допомогою степеневого метода (див. попередню задачу).\n",
    "\n",
    "1️⃣ Для графа, що його наведено у прикладі вище, знайдіть власні значення й власні вектори матриці $T$ за допомогою вбудованих засобів. Чи є серед них власне значення 1? Чи є воно найбільшим за модулем? Яким має бути вектор рангів вершин? Знаючи, що 1  є власним значенням $T$, розрахуйте власний вектор рангів вручну, нормуйте його. Чи збігаються вектори, що їх знайшли ви та комп'ютер? "
   ]
  },
  {
   "cell_type": "code",
   "execution_count": null,
   "id": "adf3c39c-0742-4dc0-8c5b-0ea830de91ad",
   "metadata": {},
   "outputs": [],
   "source": [
    "#write your code here"
   ]
  },
  {
   "cell_type": "markdown",
   "id": "9a5346e9-e924-4fd2-9173-f5ed28e1d77a",
   "metadata": {},
   "source": [
    "✔️ *Ваші міркування запишіть тут.*"
   ]
  },
  {
   "cell_type": "markdown",
   "id": "68f65f85-dd16-494e-a792-2a99ca39b5d9",
   "metadata": {},
   "source": [
    "У моделей мережі для обчислення рангу сторінок, що наведено вище, є певний недолік. Адже граф інтернету є величезним і може бути незв'язним. Наприклад, з точки зору моделі випадкового блукача це означає, що цей блукач може пересуватися лише в межах однієї компоненти зв'язності й ніколи не потрапить до інших. З точки зору лінійної алгебри це означає, що матриця переходів матиме кілька лінійно незалежних власних вектори, що відповідають значенню 1 і ми не зможемо обрати з них единий вектор рангів.  Для того щоб виправити ситуацію, модель (і відповідну матрицю) дещо змінюють.\n",
    "А саме вважають, що на кожному кроці випадковий блукач обирає або переходити йому з поточної сторінки на якусь пов'язану за посиланням, або ж взагалі перестрибнути на якусь довільну сторінку в мережі (яка не обов'язково пов'язана з поточною). Ймовірність, з якою блукач обирає перший спосіб дій  позначають $d$ (damping number), відповідно, ймовірність стрибку на випадкову сторінку дорівнює $1-d$. Це означає, що матриця переходів $T$ перетворюється на нову матрицю $$G= d\\cdot T+ (1-d)H_n,$$ де $n$ -- загальна кількість вершин графа, а $H_n$ -- матриця, усі елементи якої дорівнюють $1/n$ (адже з-поміж усіх сторінок випадковий блукач обирає одну з ймовірність $1/n$). Матрицю $G$ зазвичай називають Google-матрицею. Число $d$ є комерційною таємницею корпорації  Google, але вважається, що воно дорівнює $d=0.85$, також часто обирають $d$ між 0.85 і 0.99.\n",
    "\n",
    "2️⃣ Зверніть увагу, що матриця $H_n$ також є стовпцево-стохастичною. Перевірте, що й матриця $G$ є стовпцево-стохастичною і що всі її елементи є додатними. До речі, для такого вигляду матриці теорема Фробеніуса-Перрона завжди гарантує, що 1 є найбільшим за модулем власним значенням кратності 1, і що відповідний власний вектор можна обрати з додатними компонентами."
   ]
  },
  {
   "cell_type": "markdown",
   "id": "f89290e1-27f6-4e05-a479-b540c732f84b",
   "metadata": {},
   "source": [
    "✔️ *Ваші міркування запишіть тут.*"
   ]
  },
  {
   "cell_type": "markdown",
   "id": "60eeeebc-c18c-4248-a3ca-4022f2285c3e",
   "metadata": {},
   "source": [
    "3️⃣ Напишіть функцію, що отримує на вхід орієнтований граф (networkx.Digraph),  й обчислює його Google-матрицю $G =d\\cdot T+ (1-d)H_n$. Число $d$ також має бути параметром. Застосуйте функцію до графа з прикладу з $d=0.85$. Обчисліть ранги вершин графа."
   ]
  },
  {
   "cell_type": "code",
   "execution_count": null,
   "id": "59aaff98-5b1e-40e2-9b59-ef47c9848e22",
   "metadata": {},
   "outputs": [],
   "source": [
    "#write your code "
   ]
  },
  {
   "cell_type": "markdown",
   "id": "b7fefe9a-b088-4b36-b7f0-b00c87d42f8b",
   "metadata": {},
   "source": [
    "4️ Порівняйте ваші розрахунки з тими, що дають вбудовані засоби ([див.](https://networkx.org/documentation/stable/reference/algorithms/link_analysis.html) функціі google_matrix, pagerank у пакеті  networkx ) на тому ж графі з прикладу. Чим відрізняються результати? Зробіть висновки: яка з вершин графа має найбільший ранг, найменший. Чи можете ви пояснити, чому?"
   ]
  },
  {
   "cell_type": "code",
   "execution_count": null,
   "id": "8c34a436-109a-4459-8e59-855c681ac711",
   "metadata": {},
   "outputs": [],
   "source": [
    "#write your code "
   ]
  },
  {
   "cell_type": "markdown",
   "id": "044ffbac-648b-4ff9-8948-ad47c75d95c2",
   "metadata": {},
   "source": [
    "✔️ *Ваші міркування запишіть тут.*"
   ]
  },
  {
   "cell_type": "code",
   "execution_count": null,
   "id": "46d1405e-ba5d-416b-b85e-e60b6e9eab44",
   "metadata": {},
   "outputs": [],
   "source": []
  }
 ],
 "metadata": {
  "kernelspec": {
   "display_name": "Python 3 (ipykernel)",
   "language": "python",
   "name": "python3"
  },
  "language_info": {
   "codemirror_mode": {
    "name": "ipython",
    "version": 3
   },
   "file_extension": ".py",
   "mimetype": "text/x-python",
   "name": "python",
   "nbconvert_exporter": "python",
   "pygments_lexer": "ipython3",
   "version": "3.11.9"
  }
 },
 "nbformat": 4,
 "nbformat_minor": 5
}

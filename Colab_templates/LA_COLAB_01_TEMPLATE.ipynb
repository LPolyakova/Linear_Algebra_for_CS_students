{
 "cells": [
  {
   "cell_type": "markdown",
   "metadata": {},
   "source": [
    "<a target=\"_blank\" href=\"https://colab.research.google.com/github/LPolyakova/Linear_Algebra_for_CS_students/blob/main/Colab_templates/LA_COLAB_01_TEMPLATE.ipynb\">\r\n",
    "  <img src=\"https://colab.research.google.com/assets/colab-badge.svg\" alt=\"Open In Colab\"/>\r\n",
    "</a>"
   ]
  },
  {
   "cell_type": "markdown",
   "metadata": {
    "id": "wO7rDz2w7pM3"
   },
   "source": [
    "# **ЛА_COLAB_01: базові поняття лінійної алгебри**"
   ]
  },
  {
   "cell_type": "markdown",
   "metadata": {
    "id": "R-PFsPsS_hZ_"
   },
   "source": [
    "**Ім'я Прізвище, група**"
   ]
  },
  {
   "cell_type": "markdown",
   "metadata": {
    "id": "VyPQqmIk75wW"
   },
   "source": [
    "В цьому колабі треба продемонструвати виконання завдань з комп'ютерних практикумів LA_CP_01, LA_CP_02, LA_CP_03, які знаходяться за [адресою](https://github.com/LPolyakova/Linear_Algebra_for_CS_students/tree/main/CP)"
   ]
  },
  {
   "cell_type": "markdown",
   "metadata": {
    "id": "MY3sTd5U8cXV"
   },
   "source": [
    "Користуватись ресурсами з інтернету або штучним інтелектом не заборонено. Однак, якщо ви використовуєте ШІ, код, довідкові матеріали з інтернету або літератури, ОБОВ'ЯЗКОВО вказуйте посилання на ці ресурси в коментарях. Інакше це буде розцінено як плагіат і завдання не буде зараховано. Також ви повинні розібратися в усьому, що використовували, і бути в змозі відповідати на питання, які стосуються всього, що є у вашій роботі.\n",
    "\n",
    "Виконувати завдання слід САМОСТІЙНО. У разі виявлення однакових розв'язків роботи будуть анульовані!\n",
    "\n",
    "Необхідні імпорти вказано в преамбулі. Імпортувати інші пакети не дозволяється\n",
    "\n",
    "📕 [Довідник з Markdown](https://www.markdownguide.org\n",
    ") (для набору в текстових комірках)\n",
    "\n",
    "📕 [Короткий довідник набору формул у TeX](https://ru.wikibooks.org/wiki/%D0%9C%D0%B0%D1%82%D0%B5%D0%BC%D0%B0%D1%82%D0%B8%D1%87%D0%B5%D1%81%D0%BA%D0%B8%D0%B5_%D1%84%D0%BE%D1%80%D0%BC%D1%83%D0%BB%D1%8B_%D0%B2_LaTeX)"
   ]
  },
  {
   "cell_type": "code",
   "execution_count": null,
   "metadata": {
    "id": "3Wx4heRt7FrT"
   },
   "outputs": [],
   "source": [
    "import matplotlib.pyplot as plt\n",
    "import numpy as np\n",
    "import networkx as nx\n",
    "import pandas as pd\n",
    "from scipy import linalg\n",
    "import sympy"
   ]
  },
  {
   "cell_type": "markdown",
   "metadata": {
    "id": "KRAhGRE39XwX"
   },
   "source": [
    " 💻 **Вправа 1.** Оберіть одну з вправ 1.1 - 1.5 на ваш вибір з комп'ютерного практикуму [LA_CP_01](https://github.com/LPolyakova/Linear_Algebra_for_CS_students/blob/main/CP/LA_CP_01_Matrices.ipynb). Скопіюйте умову в комірки нижче та виконайте завдання."
   ]
  },
  {
   "cell_type": "markdown",
   "metadata": {
    "id": "NwCwA-2L96HJ"
   },
   "source": [
1.1. Перевірка властивостей

Напишіть функції, які перевіряють чи є квадратна матриця

симетричною;
верхньотрикутною (нижньотрикутною);
діагональною;
скалярною
Якщо вам знадобиться порівнювати матриці, то треба використовувати функцію numpy.allclose, а не оператор порівняння 
   import numpy as np

def is_symmetric(matrix: np.ndarray) -> bool:
    """Перевіряє, чи є матриця симетричною."""
    return np.allclose(matrix, matrix.T)

def is_triangular(matrix: np.ndarray, upper: bool = True) -> bool:
    """Перевіряє, чи є матриця трикутною (верхньою або нижньою)."""
    return np.allclose(matrix, np.triu(matrix) if upper else np.tril(matrix))

def is_diagonal(matrix: np.ndarray) -> bool:
    """Перевіряє, чи є матриця діагональною."""
    return np.allclose(matrix, np.diag(np.diag(matrix)))

def is_scalar(matrix: np.ndarray) -> bool:
    """Перевіряє, чи є матриця скалярною."""
    return is_diagonal(matrix) and np.allclose(np.diag(matrix), matrix[0, 0])
   ]
  },
  {
   "cell_type": "code",
   "execution_count": null,
   "metadata": {
    "id": "okRURROp9KFe"
   },
   "outputs": [],
   "source": [
    "# write your code here"
   ]
  },
  {
   "cell_type": "markdown",
   "metadata": {
    "id": "BNaaoaNw-fCT"
   },
   "source": [
    "<font color=\"red\"> *Коментар викладача:* <font>"
   ]
  },
  {
   "cell_type": "markdown",
   "metadata": {
    "id": "cf2hxpP4AyDL"
   },
   "source": [
    "\n",
    "🧩  **Задача 1.** Оберіть одну із задач 1.6 - 1.7 на ваш вибір з комп'ютерного практикуму [LA_CP_01](https://github.com/LPolyakova/Linear_Algebra_for_CS_students/blob/main/CP/LA_CP_01_Matrices.ipynb). Скопіюйте умову в комірки нижче та виконайте завдання."
   ]
  },
  {
   "cell_type": "markdown",
   "metadata": {
    "id": "B8vAPaTNAyDM"
   },
   "source": [
    "✔️ *Запишіть умови й розв'язки тут та нижче*"
   ]
  },
  {
   "cell_type": "code",
   "execution_count": null,
   "metadata": {
    "id": "-bt-iszTAyDN"
   },
   "outputs": [],
   "source": [
    "# write your code here"
   ]
  },
  {
   "cell_type": "markdown",
   "metadata": {
    "id": "WSpKbeK8AyDO"
   },
   "source": [
    "<font color=\"red\"> *Коментар викладача:* <font>"
   ]
  },
  {
   "cell_type": "markdown",
   "metadata": {
    "id": "oXmrNhSbBin4"
   },
   "source": [
    " 💻 **Вправа 2.** Оберіть одну з вправ 2.1 - 2.5 на ваш вибір з комп'ютерного практикуму [LA_CP_02](https://github.com/LPolyakova/Linear_Algebra_for_CS_students/blob/main/CP/LA_CP_02_Linear_equations.ipynb). Скопіюйте умову в комірки нижче та виконайте завдання."
   ]
  },
  {
   "cell_type": "markdown",
   "metadata": {
    "id": "sTFY5FN4Bin5"
   },
   "source": [
 import numpy as np

def is_symmetric(matrix: np.ndarray) -> bool:
    """Перевіряє, чи є матриця симетричною."""
    return np.allclose(matrix, matrix.T)

def is_triangular(matrix: np.ndarray, upper: bool = True) -> bool:
    """Перевіряє, чи є матриця трикутною (верхньою або нижньою)."""
    return np.allclose(matrix, np.triu(matrix) if upper else np.tril(matrix))

def is_diagonal(matrix: np.ndarray) -> bool:
    """Перевіряє, чи є матриця діагональною."""
    return np.allclose(matrix, np.diag(np.diag(matrix)))

def is_scalar(matrix: np.ndarray) -> bool:
    """Перевіряє, чи є матриця скалярною."""
    return is_diagonal(matrix) and np.allclose(np.diag(matrix), matrix[0, 0])

def gaussian_elimination(matrix: np.ndarray) -> np.ndarray:
    """Застосовує метод Гаусса для приведення матриці до зведеної ступінчастої форми."""
    matrix = matrix.astype(float)
    rows, cols = matrix.shape
    
    for i in range(min(rows, cols)):
        if matrix[i, i] == 0:
            non_zero_row = np.where(matrix[i:, i] != 0)[0]
            if non_zero_row.size == 0:
                continue
            matrix[[i, non_zero_row[0] + i]] = matrix[[non_zero_row[0] + i, i]]
        
        matrix[i] /= matrix[i, i]
        for j in range(i + 1, rows):
            matrix[j] -= matrix[i] * matrix[j, i]
    
    return matrix
   ]
  },
  {
   "cell_type": "code",
   "execution_count": null,
   "metadata": {
    "id": "O-_TE41GBin6"
   },
   "outputs": [],
   "source": [
    "# write your code here"
   ]
  },
  {
   "cell_type": "markdown",
   "metadata": {
    "id": "kM2eMouGBin6"
   },
   "source": [
    "<font color=\"red\"> *Коментар викладача:* <font>"
   ]
  },
  {
   "cell_type": "markdown",
   "metadata": {
    "id": "DT_1_UojBin7"
   },
   "source": [
    "\n",
    "🧩  **Задача 2.** Оберіть одну із задач 2.6 - 2.7 на ваш вибір з комп'ютерного практикуму [LA_CP_02](https://github.com/LPolyakova/Linear_Algebra_for_CS_students/blob/main/CP/LA_CP_02_Linear_equations.ipynb). Скопіюйте умову в комірки нижче та виконайте завдання."
   ]
  },
  {
   "cell_type": "markdown",
   "metadata": {
    "id": "TSuOsvX5Bin7"
   },
   "source": [
    "✔️ *Запишіть умови й розв'язки тут та нижче*"
   ]
  },
  {
   "cell_type": "code",
   "execution_count": null,
   "metadata": {
    "id": "6H9u5QiUBin7"
   },
   "outputs": [],
   "source": [
    "# write your code here"
   ]
  },
  {
   "cell_type": "markdown",
   "metadata": {
    "id": "D8I7MA99Bin8"
   },
   "source": [
    "<font color=\"red\"> *Коментар викладача:* <font>"
   ]
  },
  {
   "cell_type": "markdown",
   "metadata": {
    "id": "DUa8Uc9zBjl2"
   },
   "source": [
    "💻 **Вправа 3.** Оберіть одну з вправ 3.1 - 3.5 на ваш вибір з комп'ютерного практикуму [LA_CP_03](https://github.com/LPolyakova/Linear_Algebra_for_CS_students/blob/main/CP/LA_CP_03_Determinants.ipynb). Скопіюйте умову в комірки нижче та виконайте завдання."
   ]
  },
  {
   "cell_type": "markdown",
   "metadata": {
    "id": "CM4qpz4nBjl3"
   },
   "source": [
 from sympy.combinatorics import Permutation

def permutation_product(p1, p2):
    """Повертає добуток двох підстановок."""
    return Permutation(p1) * Permutation(p2)

def permutation_inverse(p):
    """Повертає обернену підстановку."""
    return Permutation(p).inverse()

def permutation_cycles(p):
    """Повертає підстановку у вигляді незалежних циклів."""
    return Permutation(p).cyclic_form

def permutation_transpositions(p):
    """Розкладає підстановку в транспозиції."""
    return Permutation(p).transpositions()

def permutation_sign(p):
    """Обчислює знак (парність) підстановки."""
    return Permutation(p).signature()

def permutation_power(p, n):
    """Підносить підстановку до степеня n."""
    return Permutation(p) ** n
   ]
  },
  {
   "cell_type": "code",
   "execution_count": null,
   "metadata": {
    "id": "H79NjVGxBjl3"
   },
   "outputs": [],
   "source": [
    "# write your code here"
   ]
  },
  {
   "cell_type": "markdown",
   "metadata": {
    "id": "PhgPCwxVBjl3"
   },
   "source": [
    "<font color=\"red\"> *Коментар викладача:* <font>"
   ]
  },
  {
   "cell_type": "markdown",
   "metadata": {
    "id": "hLDe3ZyhBjl4"
   },
   "source": [
    "\n",
    "🧩  **Задача 3.** Оберіть одну із задач 3.6 - 3.7 на ваш вибір з комп'ютерного практикуму [LA_CP_03](https://github.com/LPolyakova/Linear_Algebra_for_CS_students/blob/main/CP/LA_CP_03_Determinants.ipynb). Скопіюйте умову в комірки нижче та виконайте завдання."
   ]
  },
  {
   "cell_type": "markdown",
   "metadata": {
    "id": "BX_IhGnqBjl4"
   },
   "source": [
    "✔️ *Запишіть умови й розв'язки тут та нижче*"
   ]
  },
  {
   "cell_type": "code",
   "execution_count": null,
   "metadata": {
    "id": "DOvnzHZsBjl4"
   },
   "outputs": [],
   "source": [
    "# write your code here"
   ]
  },
  {
   "cell_type": "markdown",
   "metadata": {
    "id": "VQjiSuZuBjl4"
   },
   "source": [
    "<font color=\"red\"> *Коментар викладача:* <font>"
   ]
  }
 ],
 "metadata": {
  "colab": {
   "provenance": []
  },
  "kernelspec": {
   "display_name": "Python 3 (ipykernel)",
   "language": "python",
   "name": "python3"
  },
  "language_info": {
   "codemirror_mode": {
    "name": "ipython",
    "version": 3
   },
   "file_extension": ".py",
   "mimetype": "text/x-python",
   "name": "python",
   "nbconvert_exporter": "python",
   "pygments_lexer": "ipython3",
   "version": "3.12.4"
  }
 },
 "nbformat": 4,
 "nbformat_minor": 4
}

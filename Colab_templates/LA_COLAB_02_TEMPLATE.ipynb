{
 "cells": [
  {
   "cell_type": "markdown",
   "metadata": {
    "id": "wO7rDz2w7pM3"
   },
   "source": [
    "# **ЛА_COLAB_02: занурення до лінійної алгебри**"
   ]
  },
  {
   "cell_type": "markdown",
   "metadata": {
    "id": "R-PFsPsS_hZ_"
   },
   "source": [
    "**Ім'я Прізвище, група**"
   ]
  },
  {
   "cell_type": "markdown",
   "metadata": {
    "id": "VyPQqmIk75wW"
   },
   "source": [
    "В цьому колабі треба продемонструвати виконання завдань з комп'ютерних практикумів LA_CP_04, LA_CP_05, LA_CP_06, LA_CP_07, які знаходяться за [адресою](https://github.com/LPolyakova/Linear_Algebra_for_CS_students/tree/main/CP)"
   ]
  },
  {
   "cell_type": "markdown",
   "metadata": {
    "id": "MY3sTd5U8cXV"
   },
   "source": [
    "Користуватись ресурсами з інтернету або штучним інтелектом не заборонено. Однак, якщо ви використовуєте ШІ, код, довідкові матеріали з інтернету або літератури, ОБОВ'ЯЗКОВО вказуйте посилання в коментарях в тому місці, де ви ці ресурси використовуєте. Інакше це буде розцінено як плагіат і завдання не буде зараховано. Також ви повинні розібратися в усьому, що використовували, і бути в змозі відповідати на питання, які стосуються всього, що є у вашій роботі.\n",
    "\n",
    "Будь ласка, нічого не видаляйте з цього шаблону, копіюйте умови, не видаляючи з них пункти. Якщо якісь пункти задач не розв'язані, залиште відповідні комірки порожніми. Пишіть математичні міркування та код в тих комірках, де це вказано.\n",
    "\n",
    "Виконувати завдання слід САМОСТІЙНО. У разі виявлення однакових розв'язків роботи будуть анульовані!\n",
    "\n",
    "Необхідні імпорти вказано в преамбулі. Імпортувати інші пакети не дозволяється\n",
    "\n",
    "📕 [Довідник з Markdown](https://www.markdownguide.org\n",
    ") (для набору в текстових комірках)\n",
    "\n",
    "📕 Короткий довідник з [TeX](https://www.overleaf.com/learn/latex/Learn_LaTeX_in_30_minutes)  для набору формул"
   ]
  },
  {
   "cell_type": "code",
   "execution_count": null,
   "metadata": {
    "id": "3Wx4heRt7FrT"
   },
   "outputs": [],
   "source": [
    "import matplotlib.pyplot as plt\n",
    "import numpy as np\n",
    "import networkx as nx\n",
    "import pandas as pd\n",
    "from scipy import linalg\n",
    "import sympy"
   ]
  },
  {
   "cell_type": "markdown",
   "metadata": {
    "id": "KRAhGRE39XwX"
   },
   "source": [
    " 💻 **Вправа 4.** Оберіть одну з вправ 4.1 - 4.5 на ваш вибір з комп'ютерного практикуму [LA_CP_04](https://github.com/LPolyakova/Linear_Algebra_for_CS_students/blob/main/CP/LA_CP_04_Linear_spaces.ipynb). Скопіюйте умову в комірки нижче та виконайте завдання."
   ]
  },
  {
   "cell_type": "markdown",
   "metadata": {
    "id": "NwCwA-2L96HJ"
   },
   "source": [
    "✔️ *Запишіть умови й розв'язки тут та нижче*"
   ]
  },
  {
   "cell_type": "code",
   "execution_count": null,
   "metadata": {
    "id": "okRURROp9KFe"
   },
   "outputs": [],
   "source": [
    "# write your code here"
   ]
  },
  {
   "cell_type": "markdown",
   "metadata": {
    "id": "BNaaoaNw-fCT"
   },
   "source": [
    "<font color=\"red\"> *Коментар викладача:* <font>"
   ]
  },
  {
   "cell_type": "markdown",
   "metadata": {
    "id": "cf2hxpP4AyDL"
   },
   "source": [
    "\n",
    "🧩  **Задача 4.** Оберіть одну із задач 4.6 - 4.7 на ваш вибір з комп'ютерного практикуму [LA_CP_04](https://github.com/LPolyakova/Linear_Algebra_for_CS_students/blob/main/CP/LA_CP_04_Linear_spaces.ipynb). Скопіюйте умову в комірки нижче та виконайте завдання."
   ]
  },
  {
   "cell_type": "markdown",
   "metadata": {
    "id": "B8vAPaTNAyDM"
   },
   "source": [
    "✔️ *Запишіть умови й розв'язки тут та нижче*"
   ]
  },
  {
   "cell_type": "code",
   "execution_count": null,
   "metadata": {
    "id": "-bt-iszTAyDN"
   },
   "outputs": [],
   "source": [
    "# write your code here"
   ]
  },
  {
   "cell_type": "markdown",
   "metadata": {
    "id": "WSpKbeK8AyDO"
   },
   "source": [
    "<font color=\"red\"> *Коментар викладача:* <font>"
   ]
  },
  {
   "cell_type": "markdown",
   "metadata": {
    "id": "oXmrNhSbBin4"
   },
   "source": [
    " 💻 **Вправа 5.** Оберіть одну з вправ 5.1 - 5.5 на ваш вибір з комп'ютерного практикуму [LA_CP_05](https://github.com/LPolyakova/Linear_Algebra_for_CS_students/blob/main/CP/LA_CP_05_Euclidean_spaces.ipynb). Скопіюйте умову в комірки нижче та виконайте завдання."
   ]
  },
  {
   "cell_type": "markdown",
   "metadata": {
    "id": "sTFY5FN4Bin5"
   },
   "source": [
    "✔️ *Запишіть умови й розв'язки тут та нижче*"
   ]
  },
  {
   "cell_type": "code",
   "execution_count": null,
   "metadata": {
    "id": "O-_TE41GBin6"
   },
   "outputs": [],
   "source": [
    "# write your code here"
   ]
  },
  {
   "cell_type": "markdown",
   "metadata": {
    "id": "kM2eMouGBin6"
   },
   "source": [
    "<font color=\"red\"> *Коментар викладача:* <font>"
   ]
  },
  {
   "cell_type": "markdown",
   "metadata": {
    "id": "DT_1_UojBin7"
   },
   "source": [
    "\n",
    "🧩  **Задача 5.** Оберіть одну із задач 5.6 - 5.7 на ваш вибір з комп'ютерного практикуму [LA_CP_05](https://github.com/LPolyakova/Linear_Algebra_for_CS_students/blob/main/CP/LA_CP_05_Euclidean_spaces.ipynb). Скопіюйте умову в комірки нижче та виконайте завдання."
   ]
  },
  {
   "cell_type": "markdown",
   "metadata": {
    "id": "TSuOsvX5Bin7"
   },
   "source": [
    "✔️ *Запишіть умови й розв'язки тут та нижче*"
   ]
  },
  {
   "cell_type": "code",
   "execution_count": null,
   "metadata": {
    "id": "6H9u5QiUBin7"
   },
   "outputs": [],
   "source": [
    "# write your code here"
   ]
  },
  {
   "cell_type": "markdown",
   "metadata": {
    "id": "D8I7MA99Bin8"
   },
   "source": [
    "<font color=\"red\"> *Коментар викладача:* <font>"
   ]
  },
  {
   "cell_type": "markdown",
   "metadata": {
    "id": "DUa8Uc9zBjl2"
   },
   "source": [
    "💻 **Вправа 6.** Оберіть одну з вправ 6.1 - 6.5 на ваш вибір з комп'ютерного практикуму [LA_CP_06](https://github.com/LPolyakova/Linear_Algebra_for_CS_students/blob/main/CP/LA_CP_06_Linear_transformations.ipynb). Скопіюйте умову в комірки нижче та виконайте завдання."
   ]
  },
  {
   "cell_type": "markdown",
   "metadata": {
    "id": "CM4qpz4nBjl3"
   },
   "source": [
    "✔️ *Запишіть умови й розв'язки тут та нижче*"
   ]
  },
  {
   "cell_type": "code",
   "execution_count": null,
   "metadata": {
    "id": "H79NjVGxBjl3"
   },
   "outputs": [],
   "source": [
    "# write your code here"
   ]
  },
  {
   "cell_type": "markdown",
   "metadata": {
    "id": "PhgPCwxVBjl3"
   },
   "source": [
    "<font color=\"red\"> *Коментар викладача:* <font>"
   ]
  },
  {
   "cell_type": "markdown",
   "metadata": {
    "id": "hLDe3ZyhBjl4"
   },
   "source": [
    "\n",
    "🧩  **Задача 6.** Оберіть одну із задач 6.6 - 6.7 на ваш вибір з комп'ютерного практикуму [LA_CP_06](https://github.com/LPolyakova/Linear_Algebra_for_CS_students/blob/main/CP/LA_CP_06_Linear_transformations.ipynb). Скопіюйте умову в комірки нижче та виконайте завдання."
   ]
  },
  {
   "cell_type": "markdown",
   "metadata": {
    "id": "BX_IhGnqBjl4"
   },
   "source": [
    "✔️ *Запишіть умови й розв'язки тут та нижче*"
   ]
  },
  {
   "cell_type": "code",
   "execution_count": null,
   "metadata": {
    "id": "DOvnzHZsBjl4"
   },
   "outputs": [],
   "source": [
    "# write your code here"
   ]
  },
  {
   "cell_type": "markdown",
   "metadata": {
    "id": "VQjiSuZuBjl4"
   },
   "source": [
    "<font color=\"red\"> *Коментар викладача:* <font>"
   ]
  },
  {
   "cell_type": "markdown",
   "metadata": {
    "id": "DUa8Uc9zBjl2"
   },
   "source": [
    "💻 **Вправа 7.** Оберіть одну з вправ 7.1 - 7.5 на ваш вибір з комп'ютерного практикуму [LA_CP_07](https://github.com/LPolyakova/Linear_Algebra_for_CS_students/blob/main/CP/LA_CP_07_Symmetrical_matrices_and_quadratic_forms.ipynb). Скопіюйте умову в комірки нижче та виконайте завдання."
   ]
  },
  {
   "cell_type": "markdown",
   "metadata": {
    "id": "CM4qpz4nBjl3"
   },
   "source": [
    "✔️ *Запишіть умови й розв'язки тут та нижче*"
   ]
  },
  {
   "cell_type": "code",
   "execution_count": null,
   "metadata": {
    "id": "H79NjVGxBjl3"
   },
   "outputs": [],
   "source": [
    "# write your code here"
   ]
  }
 ],
 "metadata": {
  "colab": {
   "provenance": []
  },
  "kernelspec": {
   "display_name": "Python 3 (ipykernel)",
   "language": "python",
   "name": "python3"
  },
  "language_info": {
   "codemirror_mode": {
    "name": "ipython",
    "version": 3
   },
   "file_extension": ".py",
   "mimetype": "text/x-python",
   "name": "python",
   "nbconvert_exporter": "python",
   "pygments_lexer": "ipython3",
   "version": "3.12.4"
  }
 },
 "nbformat": 4,
 "nbformat_minor": 4
}
